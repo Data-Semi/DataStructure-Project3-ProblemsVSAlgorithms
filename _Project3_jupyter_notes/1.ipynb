{
 "cells": [
  {
   "cell_type": "markdown",
   "metadata": {},
   "source": [
    "## Finding the Square Root of an Integer<br>\n",
    "Find the square root of the integer without using any Python library. You have to find the floor value of the square root.\n",
    "\n",
    "For example if the given number is 16, then the answer would be 4.\n",
    "\n",
    "If the given number is 27, the answer would be 5 because sqrt(5) = 5.196 whose floor value is 5.\n",
    "\n",
    "The expected time complexity is O(log(n))\n",
    "\n",
    "Here is some boilerplate code and test cases to start with:"
   ]
  },
  {
   "cell_type": "code",
   "execution_count": 4,
   "metadata": {},
   "outputs": [
    {
     "name": "stdout",
     "output_type": "stream",
     "text": [
      "Pass\n",
      "Pass\n",
      "Pass\n",
      "Pass\n",
      "Pass\n"
     ]
    }
   ],
   "source": [
    "def sqrt(number):\n",
    "    \"\"\"\n",
    "    Calculate the floored square root of a number\n",
    "\n",
    "    Args:\n",
    "       number(int): Number to find the floored squared root\n",
    "    Returns:\n",
    "       int: Floored Square Root\n",
    "    \"\"\"\n",
    "    #special condition, number == 0 or 1\n",
    "    if number == 0:\n",
    "        return 0\n",
    "    if number == 1:\n",
    "        return 1\n",
    "    # the other conditions\n",
    "    return sqrt_small(0, number, number)\n",
    "\n",
    "\n",
    "def sqrt_small(start, end, number):\n",
    "\n",
    "    #base condition\n",
    "    if start == end:\n",
    "        return start\n",
    "    elif start +1 == end:\n",
    "        return start\n",
    "    else:\n",
    "        mid = start + (end-start)//2\n",
    "        if mid * mid > number:\n",
    "            #go to left side\n",
    "            return sqrt_small(start, mid, number)\n",
    "        elif mid * mid < number:\n",
    "            # go to right side\n",
    "            return sqrt_small(mid, end, number)\n",
    "        else:\n",
    "            return mid\n",
    "            \n",
    "             \n",
    "\n",
    "print (\"Pass\" if  (3 == sqrt(9)) else \"Fail\")\n",
    "print (\"Pass\" if  (0 == sqrt(0)) else \"Fail\")\n",
    "print (\"Pass\" if  (4 == sqrt(16)) else \"Fail\")\n",
    "print (\"Pass\" if  (1 == sqrt(1)) else \"Fail\")\n",
    "print (\"Pass\" if  (5 == sqrt(27)) else \"Fail\")"
   ]
  },
  {
   "cell_type": "markdown",
   "metadata": {},
   "source": [
    "# Finding the Square Root of an Integer\n",
    "\n",
    "## Problem description\n",
    "\n",
    "Find the square root of the integer without using any Python library. You have to find the floor value of the square root.\n",
    "\n",
    "For example if the given number is 16, then the answer would be 4.\n",
    "\n",
    "If the given number is 27, the answer would be 5 because sqrt(5) = 5.196 whose floor value is 5.\n",
    "\n",
    "The expected time complexity is O(log(n))\n",
    "\n",
    "## Program description  \n",
    "\n",
    "The function`sqrt_small` is a recursion function.\n",
    "\n",
    "## Time complexity  \n",
    "\n",
    "All operations takes O(1) time.   \n",
    "Every time recursively call the function `sqrt_small`, the searching area will be sized down to the half of its original area.  \n",
    "This means the total time complexity is O(log(n)).\n",
    "\n",
    "## Space complexity  \n",
    "\n",
    "The recursive function will take extra memory for executing the call stack. the call stack depth will be maximumly log(n), therefore, the space complexity of this function is O(log(n))\n"
   ]
  },
  {
   "cell_type": "code",
   "execution_count": null,
   "metadata": {},
   "outputs": [],
   "source": []
  }
 ],
 "metadata": {
  "kernelspec": {
   "display_name": "Python 3",
   "language": "python",
   "name": "python3"
  },
  "language_info": {
   "codemirror_mode": {
    "name": "ipython",
    "version": 3
   },
   "file_extension": ".py",
   "mimetype": "text/x-python",
   "name": "python",
   "nbconvert_exporter": "python",
   "pygments_lexer": "ipython3",
   "version": "3.7.7"
  }
 },
 "nbformat": 4,
 "nbformat_minor": 4
}
