{
 "cells": [
  {
   "cell_type": "markdown",
   "metadata": {},
   "source": [
    "Dutch National Flag Problem\n",
    "Given an input array consisting on only 0, 1, and 2, sort the array in a single traversal. You're not allowed to use any sorting function that Python provides.\n",
    "\n",
    "Note: O(n) does not necessarily mean single-traversal. For e.g. if you traverse the array twice, that would still be an O(n) solution but it will not count as single traversal.\n",
    "\n",
    "Here is some boilerplate code and test cases to start with:"
   ]
  },
  {
   "cell_type": "code",
   "execution_count": 2,
   "metadata": {},
   "outputs": [
    {
     "name": "stdout",
     "output_type": "stream",
     "text": [
      "[0, 0, 0, 1, 1, 1, 2, 2, 2, 2, 2]\n",
      "Pass\n",
      "[0, 0, 0, 0, 0, 0, 0, 0, 0, 0, 0, 1, 1, 1, 1, 1, 1, 2, 2, 2, 2, 2, 2, 2, 2, 2]\n",
      "Pass\n",
      "[0, 0, 0, 0, 0, 0, 1, 1, 1, 1, 1, 1, 2, 2, 2, 2, 2, 2, 2]\n",
      "Pass\n"
     ]
    }
   ],
   "source": [
    "def sort_012(input_list):\n",
    "    \"\"\"\n",
    "    Given an input array consisting on only 0, 1, and 2, sort the array in a single traversal.\n",
    "\n",
    "    Args:\n",
    "       input_list(list): List to be sorted\n",
    "    \"\"\"\n",
    "    \n",
    "    pos = 0  #index of current judgement position\n",
    "    next_0 = 0  # index of next possible insert position of 0\n",
    "    next_2 = len(input_list)-1  # index of next possible insert position of 2\n",
    "    \n",
    "    if next_2 == -1 or next_2 == 0:  # empty list, or a list has only 1 element \n",
    "        return input_list  # return itself\n",
    "    \n",
    "    while pos <= next_2:\n",
    "        if input_list[pos] == 0:\n",
    "            input_list[next_0], input_list[pos] = input_list[pos], input_list[next_0]\n",
    "            next_0 += 1\n",
    "            if pos < next_0:  # pos and next_0 was in the same position\n",
    "                pos += 1\n",
    "        elif input_list[pos] == 2:\n",
    "            input_list[next_2], input_list[pos] = input_list[pos], input_list[next_2]\n",
    "            next_2 -= 1\n",
    "        else:  # it is 1, move to next\n",
    "            pos += 1\n",
    "    return input_list\n",
    "\n",
    "def test_function(test_case):\n",
    "    sorted_array = sort_012(test_case)\n",
    "    print(sorted_array)\n",
    "    if sorted_array == sorted(test_case):\n",
    "        print(\"Pass\")\n",
    "    else:\n",
    "        print(\"Fail\")\n",
    "\n",
    "test_function([0, 0, 2, 2, 2, 1, 1, 1, 2, 0, 2])\n",
    "test_function([2, 1, 2, 0, 0, 2, 1, 0, 1, 0, 0, 2, 2, 2, 1, 2, 0, 0, 0, 2, 1, 0, 2, 0, 0, 1])\n",
    "test_function([0, 0, 0, 0, 0, 0, 1, 1, 1, 1, 1, 1, 2, 2, 2, 2, 2, 2, 2])"
   ]
  },
  {
   "cell_type": "markdown",
   "metadata": {},
   "source": [
    "# Dutch National Flag Problem\n",
    "\n",
    "## Problem description\n",
    "\n",
    "This problem given an input array consisting on only 0, 1, and 2, sort the array in a single traversal. You're not allowed to use any sorting function that Python provides.\n",
    "\n",
    "Note: O(n) does not necessarily mean single-traversal. For e.g. if you traverse the array twice, that would still be an O(n) solution but it will not count as single traversal.\n",
    "\n",
    "## Program description  \n",
    "\n",
    "This program sorts the array in a single traversal.  \n",
    "The idea is keep track of the index after the tail position(final index) of 0, the index infront of the head position of 2 and the current index of traverse.  \n",
    "Every time if the element in current index is 0, it will switch with the element right after the tail position of 0.  \n",
    "Every time if the element in current index is 2, it will switch with the element in front of head position of 2.\n",
    "\n",
    "## Time compexity\n",
    "\n",
    "Becaus of all operations takes constant time, and there is only one traverse. Therefore, the program's time complexity is O(n).\n",
    "\n",
    "## Space complexity  \n",
    "\n",
    "Because there is no extra space uses other than the input array,the space complexity is O(1). \n"
   ]
  },
  {
   "cell_type": "code",
   "execution_count": null,
   "metadata": {},
   "outputs": [],
   "source": []
  }
 ],
 "metadata": {
  "kernelspec": {
   "display_name": "Python 3",
   "language": "python",
   "name": "python3"
  },
  "language_info": {
   "codemirror_mode": {
    "name": "ipython",
    "version": 3
   },
   "file_extension": ".py",
   "mimetype": "text/x-python",
   "name": "python",
   "nbconvert_exporter": "python",
   "pygments_lexer": "ipython3",
   "version": "3.7.7"
  }
 },
 "nbformat": 4,
 "nbformat_minor": 4
}
