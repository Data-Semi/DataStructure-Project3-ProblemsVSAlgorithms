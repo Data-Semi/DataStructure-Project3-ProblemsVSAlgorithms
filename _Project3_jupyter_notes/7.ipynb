{
 "cells": [
  {
   "cell_type": "markdown",
   "metadata": {},
   "source": [
    "HTTPRouter using a Trie\n",
    "For this exercise we are going to implement an HTTPRouter like you would find in a typical web server using the Trie data structure we learned previously.\n",
    "\n",
    "There are many different implementations of HTTP Routers such as regular expressions or simple string matching, but the Trie is an excellent and very efficient data structure for this purpose.\n",
    "\n",
    "The purpose of an HTTP Router is to take a URL path like \"/\", \"/about\", or \"/blog/2019-01-15/my-awesome-blog-post\" and figure out what content to return. In a dynamic web server, the content will often come from a block of code called a handler.\n",
    "\n"
   ]
  },
  {
   "cell_type": "markdown",
   "metadata": {},
   "source": [
    "First we need to implement a slightly different Trie than the one we used for autocomplete. Instead of simple words the Trie will contain a part of the http path at each node, building from the root node /\n",
    "\n",
    "In addition to a path though, we need to know which function will handle the http request. In a real router we would probably pass an instance of a class like Python's SimpleHTTPRequestHandler which would be responsible for handling requests to that path. For the sake of simplicity we will just use a string that we can print out to ensure we got the right handler\n",
    "\n",
    "We could split the path into letters similar to how we did the autocomplete Trie, but this would result in a Trie with a very large number of nodes and lengthy traversals if we have a lot of pages on our site. A more sensible way to split things would be on the parts of the path that are separated by slashes (\"/\"). A Trie with a single path entry of: \"/about/me\" would look like:\n",
    "\n",
    "(root, None) -> (\"about\", None) -> (\"me\", \"About Me handler\")\n",
    "\n",
    "We can also simplify our RouteTrie a bit by excluding the suffixes method and the endOfWord property on RouteTrieNodes. We really just need to insert and find nodes, and if a RouteTrieNode is not a leaf node, it won't have a handler which is fine.\n",
    "\n"
   ]
  },
  {
   "cell_type": "code",
   "execution_count": 17,
   "metadata": {},
   "outputs": [],
   "source": [
    "# A RouteTrie will store our routes and their associated handlers\n",
    "class RouteTrie:\n",
    "    def __init__(self, handler = None):\n",
    "        # Initialize the trie with an root node and a handler, this is the root path or home page node\n",
    "        self.root = RouteTrieNode(handler)\n",
    "        self.handler = handler\n",
    "\n",
    "    def insert(self, path, handler):\n",
    "        # Similar to our previous example you will want to recursively add nodes\n",
    "        # Make sure you assign the handler to only the leaf (deepest) node of this path\n",
    "        current_node = self.root\n",
    "        token_list = path.split(\"/\")  #split path to tokens list\n",
    "\n",
    "        for token in token_list:\n",
    "            if token not in current_node.children:\n",
    "                current_node.insert(token)\n",
    "            current_node = current_node.children[token]\n",
    "        #add handler to the leaf node\n",
    "        current_node.handler = handler\n",
    "        \n",
    "    def find(self, path):\n",
    "        # Starting at the root, navigate the Trie to find a match for this path\n",
    "        # Return the handler for a match, or None for no match\n",
    "        current_node = self.root\n",
    "        token_list = path.split(\"/\")  #split path to tokens list        \n",
    "        \n",
    "        for token in token_list:\n",
    "            if token not in current_node.children:\n",
    "                return None\n",
    "            current_node = current_node.children[token]\n",
    "\n",
    "        return current_node.handler\n",
    "    \n"
   ]
  },
  {
   "cell_type": "markdown",
   "metadata": {},
   "source": [
    "Next we need to implement the actual Router. The router will initialize itself with a RouteTrie for holding routes and associated handlers. It should also support adding a handler by path and looking up a handler by path. All of these operations will be delegated to the RouteTrie.\n",
    "\n",
    "Hint: the RouteTrie stores handlers under path parts, so remember to split your path around the '/' character\n",
    "\n",
    "Bonus Points: Add a not found handler to your Router which is returned whenever a path is not found in the Trie.\n",
    "\n",
    "More Bonus Points: Handle trailing slashes! A request for '/about' or '/about/' are probably looking for the same page. Requests for '' or '/' are probably looking for the root handler. Handle these edge cases in your Router.\n",
    "\n"
   ]
  },
  {
   "cell_type": "code",
   "execution_count": 29,
   "metadata": {},
   "outputs": [],
   "source": [
    "# A RouteTrieNode will be similar to our autocomplete TrieNode... with one additional element, a handler.\n",
    "class RouteTrieNode:\n",
    "    def __init__(self, handler):\n",
    "        # Initialize the node with children as before, plus a handler\n",
    "        self.handler = handler\n",
    "        self.children = {}\n",
    "\n",
    "    def insert(self, token, handler):\n",
    "        # Insert the node as before\n",
    "        self.children[token] = RouteTrieNode(handler)\n",
    "        \n",
    "# The Router class will wrap the Trie and handle \n",
    "class Router:\n",
    "    def __init__(self, handler, not_found_hander):\n",
    "        # Initialize the trie with an root node and a handler, this is the root path or home page node\n",
    "        self.root = RouteTrieNode(handler)\n",
    "        self.handler = handler\n",
    "        self.not_found_handler = not_found_hander\n",
    "\n",
    "    def add_handler(self, path, handler):\n",
    "        # Similar to our previous example you will want to recursively add nodes\n",
    "        # Make sure you assign the handler to only the leaf (deepest) node of this path\n",
    "        current_node = self.root\n",
    "        token_list = self.split_path(path)  #split path to tokens list\n",
    "\n",
    "        for token in token_list:\n",
    "            if token not in current_node.children:\n",
    "                current_node.insert(token,self.not_found_handler)\n",
    "            current_node = current_node.children[token]\n",
    "        #add handler to the leaf node\n",
    "        current_node.handler = handler\n",
    "        \n",
    "    def lookup(self, path):\n",
    "        # Starting at the root, navigate the Trie to find a match for this path\n",
    "        # Return the handler for a match, or None for no match\n",
    "        current_node = self.root\n",
    "        token_list = self.split_path(path)  #split path to tokens list \n",
    "        #if the path is not root path: \"\" or \"/\", search the path down. else, just return the rood handler\n",
    "        if token_list != [\"\"]: \n",
    "            for token in token_list:\n",
    "                if token not in current_node.children:\n",
    "                    return self.not_found_handler\n",
    "                current_node = current_node.children[token]\n",
    "        return current_node.handler\n",
    "    def split_path(self, path):\n",
    "        # you need to split the path into parts for \n",
    "        # both the add_handler and loopup functions,\n",
    "        # so it should be placed in a function here\n",
    "        if path == \"\" or path == \"/\":\n",
    "            return [\"\"]\n",
    "        if path[-1] == \"/\":  # ignore the　tailed \"/\"\n",
    "            return path[:-1].split(\"/\")        \n",
    "        return path.split(\"/\")"
   ]
  },
  {
   "cell_type": "code",
   "execution_count": 30,
   "metadata": {},
   "outputs": [
    {
     "name": "stdout",
     "output_type": "stream",
     "text": [
      "root handler\n",
      "not found handler\n",
      "about handler\n",
      "about handler\n",
      "not found handler\n"
     ]
    }
   ],
   "source": [
    "# Here are some test cases and expected outputs you can use to test your implementation\n",
    "\n",
    "# create the router and add a route\n",
    "router = Router(\"root handler\",\"not found handler\") # remove the 'not found handler' if you did not implement this\n",
    "router.add_handler(\"/home/about\", \"about handler\")  # add a route\n",
    "\n",
    "# some lookups with the expected output\n",
    "print(router.lookup(\"/\")) # should print 'root handler'\n",
    "print(router.lookup(\"\")) # should print 'root handler'\n",
    "print(router.lookup(\"/home\")) # should print 'not found handler' or None if you did not implement one\n",
    "print(router.lookup(\"/home/about\")) # should print 'about handler'\n",
    "print(router.lookup(\"/home/about/\")) # should print 'about handler' or None if you did not handle trailing slashes\n",
    "print(router.lookup(\"/home/about/me\")) # should print 'not found handler' or None if you did not implement one"
   ]
  },
  {
   "cell_type": "markdown",
   "metadata": {},
   "source": [
    "## Program description  \n",
    "The router will initialize itself with a RouteTrie for holding routes and associated handlers. It also supports adding a handler by a path and looking up a handler by a path. All of these operations is delegated to the RouteTrie.  \n",
    "\n",
    "The RouteTrie stores handlers under path parts, the function `split_path` is to split a path around the '/' character, and also handles trailing slashes of a path.  \n",
    "A request for '/about' or '/about/' is probably looking for the same page, the program will return the same handler.  \n",
    "Requests for '' or '/' are probably looking for the root handler, the program will return root handler.  \n",
    "\n",
    "I have added a not found handler to the Router which is returned whenever a path is not found in the Trie.  \n",
    "\n",
    "\n",
    "## Time compexity\n",
    "Both of the function `add_handler`, `lookup` includes a for loop, which related the length of the given input `path`. Therefore, both of them have a time complexity of O(n).\n",
    "The other functions in this program has no loop inside, takes constant time complexity O(1).\n",
    "\n",
    "## Space complexity  \n",
    "Every time the program traverses a path and add it to the existing structure, the program performs a few operations like initializing. This is a constant time operation.\n",
    "It takes O(1) to create a new node. It is not necessarily O(1) but O(C) where C is a constant.\n",
    "This is repeated in the worst case for all the paths with length m(m tokens).\n",
    "Here m would be the length of the longest path (worst case complexity) which would be repeated for all the paths and hence the space complexity is O(n*m).\n",
    "\n"
   ]
  }
 ],
 "metadata": {
  "kernelspec": {
   "display_name": "Python 3",
   "language": "python",
   "name": "python3"
  },
  "language_info": {
   "codemirror_mode": {
    "name": "ipython",
    "version": 3
   },
   "file_extension": ".py",
   "mimetype": "text/x-python",
   "name": "python",
   "nbconvert_exporter": "python",
   "pygments_lexer": "ipython3",
   "version": "3.7.7"
  }
 },
 "nbformat": 4,
 "nbformat_minor": 4
}
