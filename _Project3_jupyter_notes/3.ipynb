{
 "cells": [
  {
   "cell_type": "markdown",
   "metadata": {},
   "source": [
    "Rearrange Array Elements\n",
    "Rearrange Array Elements so as to form two number such that their sum is maximum. Return these two numbers. You can assume that all array elements are in the range [0, 9]. The number of digits in both the numbers cannot differ by more than 1. You're not allowed to use any sorting function that Python provides and the expected time complexity is O(nlog(n)).\n",
    "\n",
    "for e.g. [1, 2, 3, 4, 5]\n",
    "\n",
    "The expected answer would be [531, 42]. Another expected answer can be [542, 31]. In scenarios such as these when there are more than one possible answers, return any one.\n",
    "\n",
    "Here is some boilerplate code and test cases to start with:"
   ]
  },
  {
   "cell_type": "code",
   "execution_count": 65,
   "metadata": {},
   "outputs": [],
   "source": [
    "def heapify(arr, n, i):\n",
    "    # Using i as the index of the current node, find the 2 child nodes (if the array were a binary tree)\n",
    "    # and find the largest value.   If one of the children is larger swap the values and recurse into that subtree\n",
    "    \n",
    "    # consider current index as largest\n",
    "    largest_index = i \n",
    "    left_node = 2 * i + 1     \n",
    "    right_node = 2 * i + 2     \n",
    "    \n",
    "    # compare with left child\n",
    "    if left_node < n and arr[i] < arr[left_node]: \n",
    "        largest_index = left_node\n",
    "    # compare with right child\n",
    "    if right_node < n and arr[largest_index] < arr[right_node]: \n",
    "        largest_index = right_node\n",
    "    # if either of left / right child is the largest node\n",
    "    if largest_index != i: \n",
    "        arr[i], arr[largest_index] = arr[largest_index], arr[i]\n",
    "        heapify(arr, n, largest_index) \n",
    "        \n",
    "def rearrange_digits(arr):\n",
    "    \"\"\"\n",
    "    Rearrange Array Elements so as to form two number such that their sum is maximum.\n",
    "\n",
    "    Args:\n",
    "       input_list(list): Input List\n",
    "    Returns:\n",
    "       (int),(int): Two maximum sums\n",
    "    \"\"\"\n",
    "    # First convert the array into a maxheap by calling heapify on each node, starting from the end   \n",
    "    # now that you have a maxheap, you can swap the first element (largest) to the end (final position)\n",
    "    # and make the array minus the last element into maxheap again.  Continue to do this until the whole\n",
    "    # array is sorted\n",
    "    n = len(arr) \n",
    "    # edge case , returns -1\n",
    "    if n <=1:\n",
    "        return -1,-1\n",
    "  \n",
    "    # Build a maxheap. \n",
    "    for i in range(n, -1, -1): \n",
    "        heapify(arr, n, i)  # from leaf to root, this means, every sub-tree always has been sorted during build up.\n",
    "    array0 = []\n",
    "    array1 = []\n",
    "    # One by one extract elements \n",
    "    for i in range(n-1, -1, -1):\n",
    "        arr[i], arr[0] = arr[0], arr[i] # swap\n",
    "        heapify(arr, i, 0)\n",
    "        if i % 2 == 0:\n",
    "            array0.append(arr[i])\n",
    "        else:\n",
    "            array1.append(arr[i])\n",
    "            \n",
    "    res0 = int(\"\".join(map(str, array0)))\n",
    "    res1 = int(\"\".join(map(str, array1)))\n",
    "    return res0, res1"
   ]
  },
  {
   "cell_type": "code",
   "execution_count": 66,
   "metadata": {},
   "outputs": [
    {
     "name": "stdout",
     "output_type": "stream",
     "text": [
      "Pass\n",
      "Pass\n",
      "Pass\n",
      "Pass\n",
      "Pass\n"
     ]
    }
   ],
   "source": [
    "def test_function(test_case):\n",
    "    output = rearrange_digits(test_case[0])\n",
    "    solution = test_case[1]\n",
    "    if sum(output) == sum(solution):\n",
    "        print(\"Pass\")\n",
    "    else:\n",
    "        print(\"Fail\")\n",
    "\n",
    "test_function([[1, 2, 3, 4, 5], [542, 31]])\n",
    "test_function([[4, 6, 2, 5, 9, 8], [964, 852]])\n",
    "test_function([[4, 6], [4, 6]])\n",
    "test_function([[4], [-1,-1]])  #edge case, only 1 element has been given. return -1,-1 \n",
    "test_function([[], [-1,-1]])  #edge case, only 1 element has been given. return -1,-1\n"
   ]
  },
  {
   "cell_type": "markdown",
   "metadata": {},
   "source": [
    "# Rearrange Array Elements\n",
    "\n",
    "## Problem description\n",
    "\n",
    "Rearrange Array Elements so as to form two number such that their sum is maximum. Return these two numbers. You can assume that all array elements are in the range [0, 9]. The number of digits in both the numbers cannot differ by more than 1. You're not allowed to use any sorting function that Python provides and the expected time complexity is O(nlog(n)).\n",
    "\n",
    "for e.g. [1, 2, 3, 4, 5]\n",
    "\n",
    "The expected answer would be [531, 42]. Another expected answer can be [542, 31]. In scenarios such as these when there are more than one possible answers, return any one.\n",
    "\n",
    "## Program description  \n",
    "\n",
    "The idea is sorting the elements and put them into 2 arrays by order.  \n",
    "The steps are as below.  \n",
    "Step1: Make 2 empty arrays, array0, array1.  \n",
    "Step2: Find the maximum element from `input_list`, put it to array0.  \n",
    "Step3: Find the maximum element from the rest of `input_list`, put it to array1.  \n",
    "Step4: Repeat Step2, Step3 until final element of `input_list`.  \n",
    "Step5: Combine elements in array0 to an integer. Do the same thing to array1.  \n",
    "\n",
    "If I sort the `input_list` and make array1, array2 similar to Step2, Step3 above, I need to go through all elements after the sort.  \n",
    "This means I need extra time complexity O(n). Because \"Merge sort\" takes O(nlog(n)), \"Quick sort\" takes O(nlog(n)) in a good pivot(we need to use extra O(n) to choose the best pivot), I decided to not use this method.  \n",
    "\n",
    "Instead of the \"sort first\" solution, I choose to use heapsort to get the maximum element every time. and pop the maximum element to array0, array1.\n",
    "\n",
    "## Time compexity\n",
    "\n",
    "The function `rearrange_digits` is a heapsort function plus Step2-Step4 above.  \n",
    "Because the funciton `heapify` has time complexity of O(log(n)), and I need to do `heapify` every time after I get the maximum element in a subtree. This means I need to do n time of `heapify`. Therefore, my program has time complexity of O(nlog(n)).  \n",
    "\n",
    "## Space complexity  \n",
    "\n",
    "Because of all space uses in this program is constant size and not impacted by the input list, the space complexity is O(1)."
   ]
  },
  {
   "cell_type": "code",
   "execution_count": null,
   "metadata": {},
   "outputs": [],
   "source": []
  }
 ],
 "metadata": {
  "kernelspec": {
   "display_name": "Python 3",
   "language": "python",
   "name": "python3"
  },
  "language_info": {
   "codemirror_mode": {
    "name": "ipython",
    "version": 3
   },
   "file_extension": ".py",
   "mimetype": "text/x-python",
   "name": "python",
   "nbconvert_exporter": "python",
   "pygments_lexer": "ipython3",
   "version": "3.7.7"
  }
 },
 "nbformat": 4,
 "nbformat_minor": 4
}
