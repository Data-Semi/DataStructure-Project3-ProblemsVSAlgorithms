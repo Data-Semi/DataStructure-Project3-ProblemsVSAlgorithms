{
 "cells": [
  {
   "cell_type": "markdown",
   "metadata": {},
   "source": [
    "Max and Min in a Unsorted Array\n",
    "In this problem, we will look for smallest and largest integer from a list of unsorted integers. The code should run in O(n) time. Do not use Python's inbuilt functions to find min and max.\n",
    "\n",
    "Bonus Challenge: Is it possible to find the max and min in a single traversal?"
   ]
  },
  {
   "cell_type": "code",
   "execution_count": 15,
   "metadata": {
    "scrolled": false
   },
   "outputs": [
    {
     "name": "stdout",
     "output_type": "stream",
     "text": [
      "Pass\n",
      "Pass\n",
      "Pass\n",
      "Pass\n"
     ]
    }
   ],
   "source": [
    "def get_min_max(ints):\n",
    "    \"\"\"\n",
    "    Return a tuple(min, max) out of list of unsorted integers.\n",
    "\n",
    "    Args:\n",
    "       ints(list): list of integers containing one or more integers\n",
    "    \"\"\"\n",
    "    if len(ints) == 0:\n",
    "        return None, None\n",
    "    \n",
    "    min_e = ints[0]\n",
    "    max_e = ints[-1]\n",
    "    for e in ints:\n",
    "        if isinstance(e, int) == False:  # if the list includes non-integer number, do not find min, max \n",
    "            return None,None\n",
    "        if e < min_e:\n",
    "            min_e = e\n",
    "        if e > max_e:\n",
    "            max_e = e\n",
    "    return min_e, max_e\n",
    "\n",
    "## Example Test Case of Ten Integers\n",
    "import random\n",
    "\n",
    "l = [i for i in range(0, 10)]  # a list containing 0 - 9\n",
    "random.shuffle(l)\n",
    "\n",
    "print (\"Pass\" if ((0, 9) == get_min_max(l)) else \"Fail\")\n",
    "print (\"Pass\" if ((None, None) == get_min_max([0.5, 2.5, 6])) else \"Fail\")\n",
    "print (\"Pass\" if ((None, None) == get_min_max([])) else \"Fail\")\n",
    "print (\"Pass\" if ((5, 5) == get_min_max([5])) else \"Fail\")"
   ]
  },
  {
   "cell_type": "markdown",
   "metadata": {},
   "source": [
    "## Question\n",
    "Sorting usually requires O(n log n) time Can you come up with a O(n) algorithm (i.e., linear time)?"
   ]
  },
  {
   "cell_type": "markdown",
   "metadata": {},
   "source": [
    "## Answer\n",
    "Yes, if I sacrifise space complexity.   \n",
    "In the first time, I will find a min and max in a single traversal. This will take time complexity of O(n).  \n",
    "Make an count array `count_array`.length is equal to max.(if the min is a big number, I can choose to set length of the `count_array` as max-min+1 to save space.)  \n",
    "I will travers the Unsorted array again, increase the element of `count_array[e]`. The index e is the element of Unsorted array. This will take time complexity of O(n).  \n",
    "Finally I will create a new array according to the count_array. This will take time complexity of O(n).\n",
    "Therefore, the total time complexity is O(n).  \n",
    "You can see my code as below.  \n"
   ]
  },
  {
   "cell_type": "code",
   "execution_count": 9,
   "metadata": {},
   "outputs": [],
   "source": [
    "def counting_sort(ints):  # e.g. ints == [4,3,6,6,3,3]\n",
    "    max_e = get_min_max(ints)[1]  # 6\n",
    "    count_array = [0] * (max_e+1)  #[0,0,0,0,0,0,0]\n",
    "    result = []\n",
    "    for e in ints:\n",
    "        count_array[e] += 1  # [0,0,0,3,1,0,2]\n",
    "    for i,counted in enumerate(count_array):\n",
    "        if counted != 0:\n",
    "            result.extend([i] * counted)\n",
    "    return result  "
   ]
  },
  {
   "cell_type": "code",
   "execution_count": 10,
   "metadata": {},
   "outputs": [
    {
     "data": {
      "text/plain": [
       "[3, 3, 3, 4, 6, 6]"
      ]
     },
     "execution_count": 10,
     "metadata": {},
     "output_type": "execute_result"
    }
   ],
   "source": [
    "counting_sort([4,3,6,6,3,3])"
   ]
  },
  {
   "cell_type": "markdown",
   "metadata": {},
   "source": [
    "# Max and Min in a Unsorted Array\n",
    "\n",
    "## Problem description\n",
    "\n",
    "Max and Min in a Unsorted Array In this problem, we will look for smallest and largest integer from a list of unsorted integers. The code should run in O(n) time. Do not use Python's inbuilt functions to find min and max.\n",
    "\n",
    "Bonus Challenge: Is it possible to find the max and min in a single traversal?\n",
    "Sorting usually requires O(n log n) time Can you come up with a O(n) algorithm (i.e., linear time)?\n",
    "\n",
    "## Program description  \n",
    "\n",
    "Max and Min in an Unsorted Array In this problem, we will look for the smallest and largest integers from a list of unsorted integers. \n",
    "The function `get_min_max` can find the max and min of an integer array in a single traversal without use Python's inbuilt functions.\n",
    "\n",
    "Sorting usually requires O(n log n) time, but the function `counting_sort` can sort an integer array with a time complexity of O(n).\n",
    "The condition is: The array should include integer(>=0) only.\n",
    "\n",
    "For the first time, `counting_sort` finds a min and max in a single traversal. This will take time complexity of O(n).  \n",
    "Make a count array `count_array`. length is equal to max.(if the min is a big number, I can choose to set the length of the `count_array` as max-min+1 to save space complexity.)  \n",
    "After this, the program traverses the Unsorted array again, increase the element of count_array[e] accordingly. The index e is the element of the Unsorted array. This will take time complexity of O(n).  \n",
    "Finally, a new array is created according to the `count_array`. This will take time complexity of O(n). Therefore, the total time complexity is O(n).  \n",
    "\n",
    "## Time compexity\n",
    "\n",
    "The function `get_min_max` performs only one traversal of the input array, therefore, the code should run in O(n) time.  \n",
    "The function `counting_sort` has a time complexity of O(n), I have described above. \n",
    "\n",
    "## Space complexity  \n",
    "\n",
    "Because all space uses in function `get_min_max` is the constant size and not impacted by the input list, the space complexity is O(1).  \n",
    "The function `counting_sort` has space complexity O(n), because of the extra space uses by the `count_array` and `result`.In the worst case, the space complexity will be O(2n).\n"
   ]
  },
  {
   "cell_type": "code",
   "execution_count": null,
   "metadata": {},
   "outputs": [],
   "source": []
  }
 ],
 "metadata": {
  "kernelspec": {
   "display_name": "Python 3",
   "language": "python",
   "name": "python3"
  },
  "language_info": {
   "codemirror_mode": {
    "name": "ipython",
    "version": 3
   },
   "file_extension": ".py",
   "mimetype": "text/x-python",
   "name": "python",
   "nbconvert_exporter": "python",
   "pygments_lexer": "ipython3",
   "version": "3.7.7"
  }
 },
 "nbformat": 4,
 "nbformat_minor": 4
}
